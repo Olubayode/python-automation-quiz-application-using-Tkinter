{
 "cells": [
  {
   "cell_type": "code",
   "execution_count": 1,
   "metadata": {},
   "outputs": [],
   "source": [
    "import json\n",
    "import os\n",
    "import smtplib\n",
    "import tkinter as tk\n",
    "import requests\n",
    "import random\n",
    "from tkinter import messagebox\n",
    "import time\n",
    "import datetime\n",
    "import smtplib\n",
    "from email.message import EmailMessage"
   ]
  },
  {
   "cell_type": "code",
   "execution_count": 2,
   "metadata": {},
   "outputs": [],
   "source": [
    "res = requests.get('https://opentdb.com/api.php?amount=50&category=9&difficulty=easy&type=multiple')\n",
    "data = json.loads(res.text)\n",
    "results = data['results']\n",
    "results = random.sample(results, 20)\n",
    "#results"
   ]
  },
  {
   "cell_type": "code",
   "execution_count": 3,
   "metadata": {},
   "outputs": [],
   "source": [
    "name = \"\"\n",
    "email = \"\"\n",
    "i = 0\n",
    "start_time = 0\n",
    "finish_time = 0\n",
    "choice = ''\n",
    "question = ''\n",
    "answers = []\n",
    "letters = 'ABCD'\n",
    "ans_index = ''\n",
    "mark = 0\n",
    "f = open('Quiz.txt', 'w', encoding ='utf-8')"
   ]
  },
  {
   "cell_type": "code",
   "execution_count": 4,
   "metadata": {},
   "outputs": [],
   "source": [
    "def start():\n",
    "    if (txt_name.get() != '' and txt_email.get() != ''):\n",
    "        global name, email\n",
    "        name = txt_name.get()\n",
    "        email = txt_email.get()\n",
    "        lbl_name.forget()\n",
    "        txt_name.forget()\n",
    "        lbl_email.forget()\n",
    "        txt_email.forget()\n",
    "        btn_start.forget()\n",
    "        global start_time, f\n",
    "        f.write(f'NAME: {name}\\n')\n",
    "        start_time = time.time()\n",
    "        next_()\n",
    "    else:\n",
    "        messagebox.showerror('ERROR!!!', 'Name or Email address field cannot be empty.')"
   ]
  },
  {
   "cell_type": "code",
   "execution_count": 5,
   "metadata": {},
   "outputs": [],
   "source": [
    "window = tk.Tk()\n",
    "window.title('Quiz Application')\n",
    "window.geometry('800x350')\n",
    "lbl_name = tk.Label(text = 'Name:', font = ('Georgia', 15))\n",
    "lbl_email = tk.Label(text = 'Email:', font = ('Georgia', 15))\n",
    "txt_name = tk.Entry(width = 50)\n",
    "txt_name.focus()\n",
    "txt_email = tk.Entry(width = 50)\n",
    "btn_start = tk.Button(text= 'Start Quiz', command = start, font = ('Georgia', 15))\n",
    "lbl_name.pack(anchor ='n')\n",
    "txt_name.pack(anchor ='n')\n",
    "lbl_email.pack(anchor ='n')\n",
    "txt_email.pack(anchor ='n')\n",
    "btn_start.pack(anchor ='n', pady=10)"
   ]
  },
  {
   "cell_type": "code",
   "execution_count": 6,
   "metadata": {},
   "outputs": [],
   "source": [
    "selected = tk.StringVar(value = ' ')"
   ]
  },
  {
   "cell_type": "code",
   "execution_count": 7,
   "metadata": {},
   "outputs": [],
   "source": [
    "def radio_click():\n",
    "    global selected, choice\n",
    "    choice = selected.get()"
   ]
  },
  {
   "cell_type": "code",
   "execution_count": 8,
   "metadata": {},
   "outputs": [],
   "source": [
    "lbl_num = tk.Label(text = \"\", font = ('Georgia', 15))\n",
    "lbl_que = tk.Label(text = '', font = ('Georgia', 15))\n",
    "rdo_A = tk.Radiobutton(text = '', variable = selected, command = radio_click, font = ('Georgia', 15))\n",
    "rdo_B = tk.Radiobutton(text = '', variable = selected, command = radio_click, font = ('Georgia', 15))\n",
    "rdo_C = tk.Radiobutton(text = '', variable = selected, command = radio_click, font = ('Georgia', 15))\n",
    "rdo_D = tk.Radiobutton(text = '', variable = selected, command = radio_click, font = ('Georgia', 15))\n",
    "btn_next = tk.Button(text = 'Next', font = ('Georgia', 15))"
   ]
  },
  {
   "cell_type": "code",
   "execution_count": 9,
   "metadata": {},
   "outputs": [],
   "source": [
    "def send_mail(attachment):\n",
    "    username = os.environ.get('User_name')\n",
    "    user_password = os.environ.get('User_password')\n",
    "    msg = EmailMessage()\n",
    "    msg['TO'] = email\n",
    "    msg['From'] = username\n",
    "    msg['Subject'] = 'Quiz Result'\n",
    "    msg.set_content (f'''Dear {name},\n",
    "    Thank you for completing the quiz exercise. \n",
    "    You scored {mark*5}%.\n",
    "    Please, find attached a copy of your results. \n",
    "    Thank you.\n",
    "    ''')\n",
    "    attachment = attachment.encode('utf-8')\n",
    "    msg.add_attachment(attachment, maintype = 'application', subtype ='octet-stream', filename='Quiz.txt')\n",
    "    \n",
    "    with smtplib.SMTP_SSL('smtp.gmail.com', 465) as smtp:\n",
    "        #try:\n",
    "            smtp.login(username, user_password)\n",
    "            smtp.send_message(msg)\n",
    "        #except gaierror:\n",
    "            #print('Please, connect to the internet.')"
   ]
  },
  {
   "cell_type": "code",
   "execution_count": 10,
   "metadata": {},
   "outputs": [],
   "source": [
    "def next_():\n",
    "    global i, selected, choice, question, answers, ans_index, letters,f\n",
    "    global lbl_num, lbl_que, rdo_A,rdo_B,rdo_C,rdo_D, btn_next, mark\n",
    "    \n",
    "    if(i > 0):\n",
    "        f.write(f'{i}. {question}\\n')\n",
    "        \n",
    "        if (choice !=''):\n",
    "            f.write(f\"Your answer: {choice}. {answers[letters.index(choice)]}\\n\")\n",
    "        else:\n",
    "            f.write(f\"Your answer: {choice}\\n\")\n",
    "                    \n",
    "        if choice == ans_index:\n",
    "            mark+=1\n",
    "        else:\n",
    "            f.write(f\"Correct answer: {ans_index}. {answers[letters.index(ans_index)]}\\n\")\n",
    "        choice = ''\n",
    "        \n",
    "    if ( i == 20):\n",
    "        global finish_time\n",
    "        finish_time = time.time()\n",
    "        #print(finish_time - start_time)\n",
    "        t = finish_time - start_time\n",
    "        h = int(t//3600)\n",
    "        m = int((t%3600)//60)\n",
    "        s = int(round((t%3600)%60, 0))\n",
    "        duration = f\"{h}hours, {m}mins and {s}secs\"\n",
    "        message = f\"Thank you for completing the assessment. You finished in {duration}\"\n",
    "        lbl_num.configure(text=message)\n",
    "        #print(mark)\n",
    "        lbl_que.configure(text=f\"Score: {mark * 5}%\")\n",
    "        rdo_A.forget()\n",
    "        rdo_B.forget()\n",
    "        rdo_C.forget()\n",
    "        rdo_D.forget()\n",
    "        btn_next.forget()\n",
    "        f.close()\n",
    "        with open('Quiz.txt') as file_obj:\n",
    "            send_mail(file_obj.read())\n",
    "        return\n",
    "    \n",
    "    question = results[i]['question']\n",
    "    correct_ans = [results[i]['correct_answer']]\n",
    "    incorrect_ans = results[i]['incorrect_answers']\n",
    "    answers = incorrect_ans+correct_ans\n",
    "    random.shuffle(answers)\n",
    "    ans_index = letters[answers.index(correct_ans[0])]    \n",
    "    \n",
    "    selected.set(None)\n",
    "    \n",
    "    lbl_num.configure(text=f\"Question {i+1}:\")\n",
    "    lbl_que.configure(text=question)\n",
    "    rdo_A.configure(text=answers[0], value = letters[0])\n",
    "    rdo_B.configure(text=answers[1], value = letters[1])\n",
    "    rdo_C.configure(text=answers[2], value = letters[2])\n",
    "    rdo_D.configure(text=answers[3], value = letters[3])\n",
    "    btn_next.configure(command = next_)\n",
    "    \n",
    "        \n",
    "    if(i==0):\n",
    "        lbl_num.pack(anchor = 'nw')\n",
    "        lbl_que.pack(anchor = 'n')\n",
    "        rdo_A.pack()\n",
    "        rdo_B.pack()\n",
    "        rdo_C.pack()\n",
    "        rdo_D.pack()\n",
    "        btn_next.pack()\n",
    "    \n",
    "    i+=1"
   ]
  },
  {
   "cell_type": "code",
   "execution_count": 11,
   "metadata": {},
   "outputs": [
    {
     "name": "stderr",
     "output_type": "stream",
     "text": [
      "Exception in Tkinter callback\n",
      "Traceback (most recent call last):\n",
      "  File \"<ipython-input-9-d4574dd17180>\", line 19, in send_mail\n",
      "    smtp.login(username, user_password)\n",
      "  File \"C:\\Users\\OLUBAYODE\\anaconda3\\lib\\smtplib.py\", line 723, in login\n",
      "    (code, resp) = self.auth(\n",
      "  File \"C:\\Users\\OLUBAYODE\\anaconda3\\lib\\smtplib.py\", line 642, in auth\n",
      "    authobject(challenge).encode('ascii'), eol='')\n",
      "AttributeError: 'NoneType' object has no attribute 'encode'\n",
      "\n",
      "During handling of the above exception, another exception occurred:\n",
      "\n",
      "Traceback (most recent call last):\n",
      "  File \"C:\\Users\\OLUBAYODE\\anaconda3\\lib\\tkinter\\__init__.py\", line 1883, in __call__\n",
      "    return self.func(*args)\n",
      "  File \"<ipython-input-10-5e8555673574>\", line 39, in next_\n",
      "    send_mail(file_obj.read())\n",
      "  File \"<ipython-input-9-d4574dd17180>\", line 20, in send_mail\n",
      "    smtp.send_message(msg)\n",
      "  File \"C:\\Users\\OLUBAYODE\\anaconda3\\lib\\smtplib.py\", line 282, in __exit__\n",
      "    raise SMTPResponseException(code, message)\n",
      "smtplib.SMTPResponseException: (334, b'UGFzc3dvcmQ6')\n"
     ]
    }
   ],
   "source": [
    "window.mainloop()"
   ]
  },
  {
   "cell_type": "code",
   "execution_count": null,
   "metadata": {},
   "outputs": [],
   "source": []
  },
  {
   "cell_type": "code",
   "execution_count": null,
   "metadata": {},
   "outputs": [],
   "source": []
  }
 ],
 "metadata": {
  "kernelspec": {
   "display_name": "Python 3",
   "language": "python",
   "name": "python3"
  },
  "language_info": {
   "codemirror_mode": {
    "name": "ipython",
    "version": 3
   },
   "file_extension": ".py",
   "mimetype": "text/x-python",
   "name": "python",
   "nbconvert_exporter": "python",
   "pygments_lexer": "ipython3",
   "version": "3.8.3"
  }
 },
 "nbformat": 4,
 "nbformat_minor": 4
}
